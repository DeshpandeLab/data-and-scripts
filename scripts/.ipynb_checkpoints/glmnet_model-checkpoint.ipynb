{
 "cells": [
  {
   "cell_type": "code",
   "execution_count": 8,
   "id": "d6cc2107",
   "metadata": {},
   "outputs": [
    {
     "name": "stdout",
     "output_type": "stream",
     "text": [
      "Requirement already satisfied: glmnet_py in /Users/emilyxie/anaconda3/lib/python3.11/site-packages (0.1.0b2)\n",
      "Requirement already satisfied: joblib>=0.10.3 in /Users/emilyxie/anaconda3/lib/python3.11/site-packages (from glmnet_py) (1.2.0)\n",
      "Note: you may need to restart the kernel to use updated packages.\n"
     ]
    }
   ],
   "source": [
    "pip install glmnet_py"
   ]
  },
  {
   "cell_type": "code",
   "execution_count": 1,
   "id": "bd5a701c",
   "metadata": {},
   "outputs": [],
   "source": [
    "import numpy as np\n",
    "import pandas as pd\n",
    "import matplotlib.pyplot as plt\n",
    "import scipy as scipy\n",
    "#import glmnet\n",
    "import glmnet_python\n",
    "from glmnet_python import glmnet\n",
    "from glmnetPrint import glmnetPrint; from glmnetCoef import glmnetCoef\n",
    "from scipy.sparse import csr_matrix\n",
    "#from glmnet import ElasticNet"
   ]
  },
  {
   "cell_type": "code",
   "execution_count": 2,
   "id": "0277ae47",
   "metadata": {},
   "outputs": [],
   "source": [
    "#a function that takes two matrices as input and run the glmnet lasso regression\n",
    "\n",
    "#gene_list: Nx1 matrix of a list of gene names\n",
    "#target_gene: Nx1 matrix of target gene expression information\n",
    "#expression_data: NxM matrix of cell x gene expression data, corresponding to the index of gene_list\n",
    "#A:Mx1 matrix of model coefficients (what we're looking for), fitted values by the regression\n",
    "def glmnet_lasso(gene_list, target_gene, expression_data):\n",
    "    \n",
    "    #check if parameters are of suitable size matrices\n",
    "    if len(gene_list) != len(expression_data):\n",
    "        raise ValueError(\"Matrix must have the same number of rows.\")\n",
    "    #elif len(gene_list[0]!=1):\n",
    "        #raise ValueError(\"Gene matrix contains more than one column.\")\n",
    "    \n",
    "    #create variables for regression\n",
    "    # X: NxM gene expressions\n",
    "    X = expression_data\n",
    "    # y: Nx1 sparse matrix of the target cells\n",
    "    y = target_gene\n",
    "    lambdas = np.logspace(np.log10(1e-4), np.log10(35), 100)\n",
    "\n",
    "    #regression\n",
    "    #m = ElasticNet()\n",
    "    #m = m.fit(X, y)\n",
    "    fit = glmnet(x = X, y = y, family='gaussian', nlambda=100, alpha=0.2)\n",
    "    glmnetPrint(fit)\n",
    "    coef_pred = glmnetCoef(m, s=scipy.float64([0.5]), exact=False)\n",
    "\n",
    "    #decide which model did a better job of fitting and predicting matrix A\n",
    "    #y_pred = y_pred1 #or y_pred2, depending on which is more optimal\n",
    "\n",
    "\n",
    "    return coef_pred"
   ]
  },
  {
   "cell_type": "code",
   "execution_count": 3,
   "id": "307a9449",
   "metadata": {},
   "outputs": [],
   "source": [
    "import random"
   ]
  },
  {
   "cell_type": "code",
   "execution_count": 17,
   "id": "f7d77b9d",
   "metadata": {},
   "outputs": [
    {
     "name": "stdout",
     "output_type": "stream",
     "text": [
      "         0\n",
      "0     SOX2\n",
      "1    ESRRB\n",
      "2     UTF1\n",
      "3    EPAS1\n",
      "4    FOXQ1\n",
      "..     ...\n",
      "95  POU4F2\n",
      "96    TFEB\n",
      "97   DDIT3\n",
      "98   SALL4\n",
      "99  ZFP462\n",
      "\n",
      "[100 rows x 1 columns]\n",
      "         0         1         2         3         4         5         6    \\\n",
      "0   1.207739  1.131859  1.273929  1.228341  1.207457  1.347742  1.294244   \n",
      "1   1.309502  1.382944  1.167757  1.278879  1.362136  1.461041  1.200626   \n",
      "2   0.887411  1.067413  1.554748  1.571531  1.322056  1.638627  1.428033   \n",
      "3   0.078518  0.374048  0.490467  0.673594  0.558087  0.528945  0.477813   \n",
      "4   0.000000  0.000000  0.000000  0.000000  0.047418  0.000000  0.000000   \n",
      "..       ...       ...       ...       ...       ...       ...       ...   \n",
      "95  0.017869  0.333707  0.425832  0.163460  0.487849  0.230638  0.362528   \n",
      "96  0.725058  0.476488  0.338249  0.595794  0.781623  0.774960  0.849005   \n",
      "97  0.077115  0.236291  0.000000  0.110378  0.291968  0.360105  0.394599   \n",
      "98  1.013059  0.889990  1.133261  0.936444  1.035104  1.158866  1.017105   \n",
      "99  0.387144  0.309006  0.117284  0.772217  0.716790  0.840327  0.000000   \n",
      "\n",
      "             7         8         9    ...       346       347       348  \\\n",
      "0   1.270301e+00  0.673372  1.167187  ...  0.000000  0.000000  0.022750   \n",
      "1   1.466985e+00  1.365031  1.262795  ...  0.000000  0.000000  0.000000   \n",
      "2   1.239905e+00  1.686085  1.522945  ...  0.000000  0.064483  0.000000   \n",
      "3   2.860921e-01  0.240735  0.618417  ...  1.412113  1.457596  1.317854   \n",
      "4   0.000000e+00  0.000000  0.000000  ...  0.925106  0.939707  1.277891   \n",
      "..           ...       ...       ...  ...       ...       ...       ...   \n",
      "95  5.635380e-01  0.740470  0.185766  ...  0.000000  0.000000  0.000000   \n",
      "96  6.845896e-01  0.381305  0.516917  ...  0.219769  0.369266  0.192576   \n",
      "97  2.565251e-01  0.131878  0.361155  ...  0.777384  0.207101  0.793565   \n",
      "98  1.007805e+00  0.959549  0.712653  ...  1.235698  1.211478  1.114978   \n",
      "99  1.798652e-07  0.423943  0.834316  ...  0.105459  0.560742  0.000000   \n",
      "\n",
      "         349       350       351       352       353       354       355  \n",
      "0   0.012577  0.000000  0.000000  0.000000  0.000000  0.000000  0.041987  \n",
      "1   0.000000  0.000000  0.000000  0.000000  0.000000  0.000000  0.000000  \n",
      "2   0.000000  0.000000  0.000000  0.000000  0.000000  0.000000  0.338938  \n",
      "3   1.340016  1.362222  1.698906  1.596973  1.522050  1.471538  1.709350  \n",
      "4   0.870892  1.144854  0.966274  0.495990  0.899653  1.077230  0.913330  \n",
      "..       ...       ...       ...       ...       ...       ...       ...  \n",
      "95  0.000000  0.000000  0.000000  0.000000  0.000000  0.000000  0.000000  \n",
      "96  0.070569  0.385402  0.400519  0.227504  0.152251  0.135157  0.418552  \n",
      "97  0.476875  0.496287  0.645976  0.689126  1.017301  0.892953  1.113669  \n",
      "98  1.255851  1.082749  1.292482  1.396475  1.022791  1.316369  1.323132  \n",
      "99  0.533009  0.000000  0.000000  0.000000  0.398060  0.000000  0.000000  \n",
      "\n",
      "[100 rows x 356 columns]\n",
      "(100, 355)\n",
      "[[4.19868671e-02]\n",
      " [0.00000000e+00]\n",
      " [3.38938333e-01]\n",
      " [1.70934969e+00]\n",
      " [9.13329503e-01]\n",
      " [0.00000000e+00]\n",
      " [1.36706319e+00]\n",
      " [1.59540362e+00]\n",
      " [0.00000000e+00]\n",
      " [3.28428535e-01]\n",
      " [1.44280531e-01]\n",
      " [3.91954326e-01]\n",
      " [0.00000000e+00]\n",
      " [0.00000000e+00]\n",
      " [4.31133688e-01]\n",
      " [0.00000000e+00]\n",
      " [3.28628304e-04]\n",
      " [0.00000000e+00]\n",
      " [7.99239892e-01]\n",
      " [0.00000000e+00]\n",
      " [7.29147774e-01]\n",
      " [1.31706205e+00]\n",
      " [9.91775244e-01]\n",
      " [5.13061390e-02]\n",
      " [7.49853760e-01]\n",
      " [8.62676292e-01]\n",
      " [5.79632710e-01]\n",
      " [2.76284144e-01]\n",
      " [3.38747254e-01]\n",
      " [0.00000000e+00]\n",
      " [5.53660970e-01]\n",
      " [1.03833955e+00]\n",
      " [5.82067910e-01]\n",
      " [7.68755722e-01]\n",
      " [1.08600014e+00]\n",
      " [1.06986781e+00]\n",
      " [3.41367248e-01]\n",
      " [1.27536895e+00]\n",
      " [8.35888970e-01]\n",
      " [8.50261015e-05]\n",
      " [0.00000000e+00]\n",
      " [8.67821724e-02]\n",
      " [3.40186238e-01]\n",
      " [1.10047394e+00]\n",
      " [6.09358524e-01]\n",
      " [3.62018527e-01]\n",
      " [7.51670101e-01]\n",
      " [9.83567544e-02]\n",
      " [3.24268047e-01]\n",
      " [3.92184993e-01]\n",
      " [1.80604459e-06]\n",
      " [9.73427136e-01]\n",
      " [1.54292395e-15]\n",
      " [1.90157437e+00]\n",
      " [3.84229722e-01]\n",
      " [6.78303455e-01]\n",
      " [5.48857246e-01]\n",
      " [1.92411603e-01]\n",
      " [0.00000000e+00]\n",
      " [6.18496810e-01]\n",
      " [3.71029051e-01]\n",
      " [1.00115063e-01]\n",
      " [1.93186119e-01]\n",
      " [9.67484254e-02]\n",
      " [0.00000000e+00]\n",
      " [0.00000000e+00]\n",
      " [9.05767826e-01]\n",
      " [9.36761983e-01]\n",
      " [2.10382736e-01]\n",
      " [4.01853556e-01]\n",
      " [0.00000000e+00]\n",
      " [5.20732378e-01]\n",
      " [8.09717917e-01]\n",
      " [1.49429655e+00]\n",
      " [3.46861310e-01]\n",
      " [5.56193914e-01]\n",
      " [5.79949283e-01]\n",
      " [4.10930685e-01]\n",
      " [4.06501007e-01]\n",
      " [7.99539728e-01]\n",
      " [5.51220591e-01]\n",
      " [2.56280346e-01]\n",
      " [4.04575457e-01]\n",
      " [8.39974581e-05]\n",
      " [6.92944691e-01]\n",
      " [8.16626510e-02]\n",
      " [2.10270351e-01]\n",
      " [2.93038020e-08]\n",
      " [8.33835952e-01]\n",
      " [1.02810548e-01]\n",
      " [8.16860406e-02]\n",
      " [5.97356172e-01]\n",
      " [4.93575148e-01]\n",
      " [9.68722912e-01]\n",
      " [6.02722870e-01]\n",
      " [0.00000000e+00]\n",
      " [4.18551519e-01]\n",
      " [1.11366933e+00]\n",
      " [1.32313242e+00]\n",
      " [0.00000000e+00]]\n",
      "(100, 1)\n"
     ]
    }
   ],
   "source": [
    "#testing data\n",
    "file_path1 = \"/Users/emilyxie/Downloads/data-and-scripts/data/gene_list.txt\"\n",
    "gene_list = pd.read_csv(file_path1, header=None, delim_whitespace=True)\n",
    "print(gene_list)\n",
    "\n",
    "file_path2 = \"/Users/emilyxie/Downloads/data-and-scripts/data/X_SCODE_data.csv\"\n",
    "expression_data = pd.read_csv(file_path2, header=None)\n",
    "print(expression_data)\n",
    "expression_data = expression_data.to_numpy()\n",
    "X = expression_data[:,0:355]\n",
    "print(np.shape(X))\n",
    "\n",
    "target_cells = expression_data[:,355:356]\n",
    "print(target_cells)\n",
    "print(np.shape(target_cells))\n"
   ]
  },
  {
   "cell_type": "code",
   "execution_count": 5,
   "id": "b2837c6d",
   "metadata": {},
   "outputs": [
    {
     "ename": "OSError",
     "evalue": "dlopen(/Users/emilyxie/anaconda3/lib/python3.11/site-packages/glmnet_python/GLMnet.so, 6): no suitable image found.  Did find:\n\t/Users/emilyxie/anaconda3/lib/python3.11/site-packages/glmnet_python/GLMnet.so: unknown file type, first eight bytes: 0x7F 0x45 0x4C 0x46 0x02 0x01 0x01 0x00\n\t/Users/emilyxie/anaconda3/lib/python3.11/site-packages/glmnet_python/GLMnet.so: unknown file type, first eight bytes: 0x7F 0x45 0x4C 0x46 0x02 0x01 0x01 0x00",
     "output_type": "error",
     "traceback": [
      "\u001b[0;31m---------------------------------------------------------------------------\u001b[0m",
      "\u001b[0;31mOSError\u001b[0m                                   Traceback (most recent call last)",
      "Cell \u001b[0;32mIn[5], line 1\u001b[0m\n\u001b[0;32m----> 1\u001b[0m glmnet_lasso(gene_list, target_cells, expression_data)\n",
      "Cell \u001b[0;32mIn[2], line 25\u001b[0m, in \u001b[0;36mglmnet_lasso\u001b[0;34m(gene_list, target_cells, expression_data)\u001b[0m\n\u001b[1;32m     20\u001b[0m lambdas \u001b[38;5;241m=\u001b[39m np\u001b[38;5;241m.\u001b[39mlogspace(np\u001b[38;5;241m.\u001b[39mlog10(\u001b[38;5;241m1e-4\u001b[39m), np\u001b[38;5;241m.\u001b[39mlog10(\u001b[38;5;241m35\u001b[39m), \u001b[38;5;241m100\u001b[39m)\n\u001b[1;32m     22\u001b[0m \u001b[38;5;66;03m#regression\u001b[39;00m\n\u001b[1;32m     23\u001b[0m \u001b[38;5;66;03m#m = ElasticNet()\u001b[39;00m\n\u001b[1;32m     24\u001b[0m \u001b[38;5;66;03m#m = m.fit(X, y)\u001b[39;00m\n\u001b[0;32m---> 25\u001b[0m fit \u001b[38;5;241m=\u001b[39m glmnet(x \u001b[38;5;241m=\u001b[39m X, y \u001b[38;5;241m=\u001b[39m y, family\u001b[38;5;241m=\u001b[39m\u001b[38;5;124m'\u001b[39m\u001b[38;5;124mgaussian\u001b[39m\u001b[38;5;124m'\u001b[39m, nlambda\u001b[38;5;241m=\u001b[39m\u001b[38;5;241m100\u001b[39m, alpha\u001b[38;5;241m=\u001b[39m\u001b[38;5;241m0.2\u001b[39m)\n\u001b[1;32m     26\u001b[0m glmnetPrint(fit)\n\u001b[1;32m     27\u001b[0m coef_pred \u001b[38;5;241m=\u001b[39m glmnetCoef(m, s\u001b[38;5;241m=\u001b[39mscipy\u001b[38;5;241m.\u001b[39mfloat64([\u001b[38;5;241m0.5\u001b[39m]), exact\u001b[38;5;241m=\u001b[39m\u001b[38;5;28;01mFalse\u001b[39;00m)\n",
      "File \u001b[0;32m~/anaconda3/lib/python3.11/site-packages/glmnet_python/glmnet.py:448\u001b[0m, in \u001b[0;36mglmnet\u001b[0;34m(x, y, family, **options)\u001b[0m\n\u001b[1;32m    445\u001b[0m \u001b[38;5;66;03m## finally call the appropriate fit code\u001b[39;00m\n\u001b[1;32m    446\u001b[0m \u001b[38;5;28;01mif\u001b[39;00m family \u001b[38;5;241m==\u001b[39m \u001b[38;5;124m'\u001b[39m\u001b[38;5;124mgaussian\u001b[39m\u001b[38;5;124m'\u001b[39m:\n\u001b[1;32m    447\u001b[0m     \u001b[38;5;66;03m# call elnet\u001b[39;00m\n\u001b[0;32m--> 448\u001b[0m     fit \u001b[38;5;241m=\u001b[39m elnet(x, is_sparse, irs, pcs, y, weights, offset, gtype, parm, \n\u001b[1;32m    449\u001b[0m                 lempty, nvars, jd, vp, cl, ne, nx, nlam, flmin, ulam, \n\u001b[1;32m    450\u001b[0m                 thresh, isd, intr, maxit, family)\n\u001b[1;32m    451\u001b[0m \u001b[38;5;28;01melif\u001b[39;00m (family \u001b[38;5;241m==\u001b[39m \u001b[38;5;124m'\u001b[39m\u001b[38;5;124mbinomial\u001b[39m\u001b[38;5;124m'\u001b[39m) \u001b[38;5;129;01mor\u001b[39;00m (family \u001b[38;5;241m==\u001b[39m \u001b[38;5;124m'\u001b[39m\u001b[38;5;124mmultinomial\u001b[39m\u001b[38;5;124m'\u001b[39m):\n\u001b[1;32m    452\u001b[0m     \u001b[38;5;66;03m# call lognet\u001b[39;00m\n\u001b[1;32m    453\u001b[0m     fit \u001b[38;5;241m=\u001b[39m lognet(x, is_sparse, irs, pcs, y, weights, offset, parm,\n\u001b[1;32m    454\u001b[0m                  nobs, nvars, jd, vp, cl, ne, nx, nlam, flmin, ulam,\n\u001b[1;32m    455\u001b[0m                  thresh, isd, intr, maxit, kopt, family)\n",
      "File \u001b[0;32m~/anaconda3/lib/python3.11/site-packages/glmnet_python/elnet.py:17\u001b[0m, in \u001b[0;36melnet\u001b[0;34m(x, is_sparse, irs, pcs, y, weights, offset, gtype, parm, lempty, nvars, jd, vp, cl, ne, nx, nlam, flmin, ulam, thresh, isd, intr, maxit, family)\u001b[0m\n\u001b[1;32m     12\u001b[0m \u001b[38;5;28;01mdef\u001b[39;00m \u001b[38;5;21melnet\u001b[39m(x, is_sparse, irs, pcs, y, weights, offset, gtype, parm, lempty, \n\u001b[1;32m     13\u001b[0m           nvars, jd, vp, cl, ne, nx, nlam, flmin, ulam, thresh, isd, intr, \n\u001b[1;32m     14\u001b[0m           maxit, family):\n\u001b[1;32m     15\u001b[0m \n\u001b[1;32m     16\u001b[0m     \u001b[38;5;66;03m# load shared fortran library\u001b[39;00m\n\u001b[0;32m---> 17\u001b[0m     glmlib \u001b[38;5;241m=\u001b[39m loadGlmLib() \n\u001b[1;32m     19\u001b[0m     \u001b[38;5;66;03m# pre-process data     \u001b[39;00m\n\u001b[1;32m     20\u001b[0m     ybar \u001b[38;5;241m=\u001b[39m scipy\u001b[38;5;241m.\u001b[39mdot(scipy\u001b[38;5;241m.\u001b[39mtranspose(y), weights)\n",
      "File \u001b[0;32m~/anaconda3/lib/python3.11/site-packages/glmnet_python/loadGlmLib.py:24\u001b[0m, in \u001b[0;36mloadGlmLib\u001b[0;34m()\u001b[0m\n\u001b[1;32m     22\u001b[0m \u001b[38;5;28;01mdef\u001b[39;00m \u001b[38;5;21mloadGlmLib\u001b[39m():\n\u001b[1;32m     23\u001b[0m     \u001b[38;5;28;01mif\u001b[39;00m os\u001b[38;5;241m.\u001b[39mname \u001b[38;5;241m==\u001b[39m \u001b[38;5;124m'\u001b[39m\u001b[38;5;124mposix\u001b[39m\u001b[38;5;124m'\u001b[39m:\n\u001b[0;32m---> 24\u001b[0m         glmlib \u001b[38;5;241m=\u001b[39m ctypes\u001b[38;5;241m.\u001b[39mcdll\u001b[38;5;241m.\u001b[39mLoadLibrary(glmnet_so)\n\u001b[1;32m     25\u001b[0m         \u001b[38;5;28;01mreturn\u001b[39;00m(glmlib)\n\u001b[1;32m     26\u001b[0m     \u001b[38;5;28;01melif\u001b[39;00m os\u001b[38;5;241m.\u001b[39mname \u001b[38;5;241m==\u001b[39m \u001b[38;5;124m'\u001b[39m\u001b[38;5;124mnt\u001b[39m\u001b[38;5;124m'\u001b[39m:\n\u001b[1;32m     27\u001b[0m         \u001b[38;5;66;03m# this does not currently work\u001b[39;00m\n",
      "File \u001b[0;32m~/anaconda3/lib/python3.11/ctypes/__init__.py:454\u001b[0m, in \u001b[0;36mLibraryLoader.LoadLibrary\u001b[0;34m(self, name)\u001b[0m\n\u001b[1;32m    453\u001b[0m \u001b[38;5;28;01mdef\u001b[39;00m \u001b[38;5;21mLoadLibrary\u001b[39m(\u001b[38;5;28mself\u001b[39m, name):\n\u001b[0;32m--> 454\u001b[0m     \u001b[38;5;28;01mreturn\u001b[39;00m \u001b[38;5;28mself\u001b[39m\u001b[38;5;241m.\u001b[39m_dlltype(name)\n",
      "File \u001b[0;32m~/anaconda3/lib/python3.11/ctypes/__init__.py:376\u001b[0m, in \u001b[0;36mCDLL.__init__\u001b[0;34m(self, name, mode, handle, use_errno, use_last_error, winmode)\u001b[0m\n\u001b[1;32m    373\u001b[0m \u001b[38;5;28mself\u001b[39m\u001b[38;5;241m.\u001b[39m_FuncPtr \u001b[38;5;241m=\u001b[39m _FuncPtr\n\u001b[1;32m    375\u001b[0m \u001b[38;5;28;01mif\u001b[39;00m handle \u001b[38;5;129;01mis\u001b[39;00m \u001b[38;5;28;01mNone\u001b[39;00m:\n\u001b[0;32m--> 376\u001b[0m     \u001b[38;5;28mself\u001b[39m\u001b[38;5;241m.\u001b[39m_handle \u001b[38;5;241m=\u001b[39m _dlopen(\u001b[38;5;28mself\u001b[39m\u001b[38;5;241m.\u001b[39m_name, mode)\n\u001b[1;32m    377\u001b[0m \u001b[38;5;28;01melse\u001b[39;00m:\n\u001b[1;32m    378\u001b[0m     \u001b[38;5;28mself\u001b[39m\u001b[38;5;241m.\u001b[39m_handle \u001b[38;5;241m=\u001b[39m handle\n",
      "\u001b[0;31mOSError\u001b[0m: dlopen(/Users/emilyxie/anaconda3/lib/python3.11/site-packages/glmnet_python/GLMnet.so, 6): no suitable image found.  Did find:\n\t/Users/emilyxie/anaconda3/lib/python3.11/site-packages/glmnet_python/GLMnet.so: unknown file type, first eight bytes: 0x7F 0x45 0x4C 0x46 0x02 0x01 0x01 0x00\n\t/Users/emilyxie/anaconda3/lib/python3.11/site-packages/glmnet_python/GLMnet.so: unknown file type, first eight bytes: 0x7F 0x45 0x4C 0x46 0x02 0x01 0x01 0x00"
     ]
    }
   ],
   "source": [
    "glmnet_lasso(gene_list, target_cells, expression_data)"
   ]
  },
  {
   "cell_type": "code",
   "execution_count": 13,
   "id": "a6a30c9b",
   "metadata": {},
   "outputs": [
    {
     "name": "stdout",
     "output_type": "stream",
     "text": [
      "\u001b[33mDEPRECATION: Loading egg at /Users/emilyxie/anaconda3/lib/python3.11/site-packages/glmnet_python-0.2.0-py3.11.egg is deprecated. pip 23.3 will enforce this behaviour change. A possible replacement is to use pip for package installation..\u001b[0m\u001b[33m\n",
      "\u001b[0mFound existing installation: glmnet-python 0.2.0\n",
      "Uninstalling glmnet-python-0.2.0:\n",
      "  Successfully uninstalled glmnet-python-0.2.0\n"
     ]
    }
   ],
   "source": [
    "!pip uninstall -y glmnet_python"
   ]
  },
  {
   "cell_type": "code",
   "execution_count": 15,
   "id": "0a7cb192",
   "metadata": {},
   "outputs": [
    {
     "name": "stdout",
     "output_type": "stream",
     "text": [
      "Found existing installation: glmnet-py 0.1.0b2\n",
      "Uninstalling glmnet-py-0.1.0b2:\n",
      "  Successfully uninstalled glmnet-py-0.1.0b2\n"
     ]
    }
   ],
   "source": [
    "!pip uninstall -y glmnet_py"
   ]
  },
  {
   "cell_type": "code",
   "execution_count": 17,
   "id": "1462b664",
   "metadata": {},
   "outputs": [
    {
     "name": "stdout",
     "output_type": "stream",
     "text": [
      "Collecting glmnet_py\n",
      "  Using cached glmnet_py-0.1.0b2-py3-none-any.whl (378 kB)\n",
      "Requirement already satisfied: joblib>=0.10.3 in /Users/emilyxie/anaconda3/lib/python3.11/site-packages (from glmnet_py) (1.2.0)\n",
      "Installing collected packages: glmnet_py\n",
      "Successfully installed glmnet_py-0.1.0b2\n",
      "Note: you may need to restart the kernel to use updated packages.\n"
     ]
    }
   ],
   "source": [
    "pip install glmnet_py"
   ]
  },
  {
   "cell_type": "code",
   "execution_count": null,
   "id": "be4e817f",
   "metadata": {},
   "outputs": [],
   "source": []
  }
 ],
 "metadata": {
  "kernelspec": {
   "display_name": "Python 3 (ipykernel)",
   "language": "python",
   "name": "python3"
  },
  "language_info": {
   "codemirror_mode": {
    "name": "ipython",
    "version": 3
   },
   "file_extension": ".py",
   "mimetype": "text/x-python",
   "name": "python",
   "nbconvert_exporter": "python",
   "pygments_lexer": "ipython3",
   "version": "3.11.5"
  }
 },
 "nbformat": 4,
 "nbformat_minor": 5
}
