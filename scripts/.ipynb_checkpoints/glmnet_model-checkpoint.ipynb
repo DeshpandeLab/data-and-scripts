{
 "cells": [
  {
   "cell_type": "code",
   "execution_count": 3,
   "id": "d6cc2107",
   "metadata": {},
   "outputs": [
    {
     "name": "stdout",
     "output_type": "stream",
     "text": [
      "Collecting glmnet_py\n",
      "  Downloading glmnet_py-0.1.0b2-py3-none-any.whl (378 kB)\n",
      "\u001b[2K     \u001b[90m━━━━━━━━━━━━━━━━━━━━━━━━━━━━━━━━━━━━━━━\u001b[0m \u001b[32m378.3/378.3 kB\u001b[0m \u001b[31m2.5 MB/s\u001b[0m eta \u001b[36m0:00:00\u001b[0ma \u001b[36m0:00:01\u001b[0m\n",
      "\u001b[?25hRequirement already satisfied: joblib>=0.10.3 in /Users/emilyxie/anaconda3/lib/python3.11/site-packages (from glmnet_py) (1.2.0)\n",
      "Installing collected packages: glmnet_py\n",
      "Successfully installed glmnet_py-0.1.0b2\n",
      "Note: you may need to restart the kernel to use updated packages.\n"
     ]
    }
   ],
   "source": [
    "#pip install glmnet_py"
   ]
  },
  {
   "cell_type": "code",
   "execution_count": 6,
   "id": "bd5a701c",
   "metadata": {},
   "outputs": [],
   "source": [
    "import numpy as np\n",
    "import pandas as pd\n",
    "import matplotlib.pyplot as plt\n",
    "import scipy as scipy\n",
    "import glmnet_python\n",
    "from glmnet import glmnet\n",
    "from glmnetPrint import glmnetPrint; from glmnetCoef import glmnetCoef"
   ]
  },
  {
   "cell_type": "code",
   "execution_count": 14,
   "id": "0277ae47",
   "metadata": {},
   "outputs": [],
   "source": [
    "#a function that takes two matrices as input and run the glmnet lasso regression\n",
    "\n",
    "#gene_list: Nx1 matrix of target cell data\n",
    "#expression_data: NxM matrix of cell x gene expression data\n",
    "#y_pred: Mx1 matrix of what we're looking for, fitted values by the regression\n",
    "def glmnet_lasso(gene_list, expression_data):\n",
    "    \n",
    "    #check if parameters are of suitable size matrices\n",
    "    if len(gene_list) != len(expression_data):\n",
    "        raise ValueError(\"Matrix must have the same number of rows.\")\n",
    "    #elif len(gene_list[0]!=1):\n",
    "        #raise ValueError(\"Gene matrix contains more than one column.\")\n",
    "    \n",
    "    #create variables for regression\n",
    "    X = gene_list\n",
    "    y = expression_data\n",
    "    lambdas = np.logspace(np.log10(1e-4), np.log10(35), 100)\n",
    "\n",
    "    #regression\n",
    "    fit = glmnet(x = X, y = y, family='gaussian', nlambda=100, alpha=0.2)\n",
    "    glmnetPrint(fit)\n",
    "    coef_pred = glmnetCoef(fit, s=scipy.float64([0.5]), exact=False)\n",
    "\n",
    "    #decide which model did a better job of fitting and predicting matrix A\n",
    "\n",
    "\n",
    "    y_pred = y_pred1 #or y_pred2, depending on which is more optimal\n",
    "\n",
    "\n",
    "    return coef_pred"
   ]
  },
  {
   "cell_type": "code",
   "execution_count": 12,
   "id": "f7d77b9d",
   "metadata": {},
   "outputs": [
    {
     "name": "stdout",
     "output_type": "stream",
     "text": [
      "         0\n",
      "0     SOX2\n",
      "1    ESRRB\n",
      "2     UTF1\n",
      "3    EPAS1\n",
      "4    FOXQ1\n",
      "..     ...\n",
      "95  POU4F2\n",
      "96    TFEB\n",
      "97   DDIT3\n",
      "98   SALL4\n",
      "99  ZFP462\n",
      "\n",
      "[100 rows x 1 columns]\n",
      "         0         1         2         3         4         5         6    \\\n",
      "0   1.207739  1.131859  1.273929  1.228341  1.207457  1.347742  1.294244   \n",
      "1   1.309502  1.382944  1.167757  1.278879  1.362136  1.461041  1.200626   \n",
      "2   0.887411  1.067413  1.554748  1.571531  1.322056  1.638627  1.428033   \n",
      "3   0.078518  0.374048  0.490467  0.673594  0.558087  0.528945  0.477813   \n",
      "4   0.000000  0.000000  0.000000  0.000000  0.047418  0.000000  0.000000   \n",
      "..       ...       ...       ...       ...       ...       ...       ...   \n",
      "95  0.017869  0.333707  0.425832  0.163460  0.487849  0.230638  0.362528   \n",
      "96  0.725058  0.476488  0.338249  0.595794  0.781623  0.774960  0.849005   \n",
      "97  0.077115  0.236291  0.000000  0.110378  0.291968  0.360105  0.394599   \n",
      "98  1.013059  0.889990  1.133261  0.936444  1.035104  1.158866  1.017105   \n",
      "99  0.387144  0.309006  0.117284  0.772217  0.716790  0.840327  0.000000   \n",
      "\n",
      "             7         8         9    ...       346       347       348  \\\n",
      "0   1.270301e+00  0.673372  1.167187  ...  0.000000  0.000000  0.022750   \n",
      "1   1.466985e+00  1.365031  1.262795  ...  0.000000  0.000000  0.000000   \n",
      "2   1.239905e+00  1.686085  1.522945  ...  0.000000  0.064483  0.000000   \n",
      "3   2.860921e-01  0.240735  0.618417  ...  1.412113  1.457596  1.317854   \n",
      "4   0.000000e+00  0.000000  0.000000  ...  0.925106  0.939707  1.277891   \n",
      "..           ...       ...       ...  ...       ...       ...       ...   \n",
      "95  5.635380e-01  0.740470  0.185766  ...  0.000000  0.000000  0.000000   \n",
      "96  6.845896e-01  0.381305  0.516917  ...  0.219769  0.369266  0.192576   \n",
      "97  2.565251e-01  0.131878  0.361155  ...  0.777384  0.207101  0.793565   \n",
      "98  1.007805e+00  0.959549  0.712653  ...  1.235698  1.211478  1.114978   \n",
      "99  1.798652e-07  0.423943  0.834316  ...  0.105459  0.560742  0.000000   \n",
      "\n",
      "         349       350       351       352       353       354       355  \n",
      "0   0.012577  0.000000  0.000000  0.000000  0.000000  0.000000  0.041987  \n",
      "1   0.000000  0.000000  0.000000  0.000000  0.000000  0.000000  0.000000  \n",
      "2   0.000000  0.000000  0.000000  0.000000  0.000000  0.000000  0.338938  \n",
      "3   1.340016  1.362222  1.698906  1.596973  1.522050  1.471538  1.709350  \n",
      "4   0.870892  1.144854  0.966274  0.495990  0.899653  1.077230  0.913330  \n",
      "..       ...       ...       ...       ...       ...       ...       ...  \n",
      "95  0.000000  0.000000  0.000000  0.000000  0.000000  0.000000  0.000000  \n",
      "96  0.070569  0.385402  0.400519  0.227504  0.152251  0.135157  0.418552  \n",
      "97  0.476875  0.496287  0.645976  0.689126  1.017301  0.892953  1.113669  \n",
      "98  1.255851  1.082749  1.292482  1.396475  1.022791  1.316369  1.323132  \n",
      "99  0.533009  0.000000  0.000000  0.000000  0.398060  0.000000  0.000000  \n",
      "\n",
      "[100 rows x 356 columns]\n"
     ]
    }
   ],
   "source": [
    "#testing data\n",
    "file_path1 = \"/Users/emilyxie/Downloads/data-and-scripts/data/gene_list.txt\"\n",
    "gene_list = pd.read_csv(file_path1, header=None, delim_whitespace=True)\n",
    "print(gene_list)\n",
    "\n",
    "file_path2 = \"/Users/emilyxie/Downloads/data-and-scripts/data/X_SCODE_data.csv\"\n",
    "expression_data = pd.read_csv(file_path2, header=None)\n",
    "print(expression_data)"
   ]
  },
  {
   "cell_type": "code",
   "execution_count": 15,
   "id": "b2837c6d",
   "metadata": {},
   "outputs": [
    {
     "ename": "ValueError",
     "evalue": "x input must be a scipy float64 ndarray",
     "output_type": "error",
     "traceback": [
      "\u001b[0;31m---------------------------------------------------------------------------\u001b[0m",
      "\u001b[0;31mValueError\u001b[0m                                Traceback (most recent call last)",
      "Cell \u001b[0;32mIn[15], line 1\u001b[0m\n\u001b[0;32m----> 1\u001b[0m glmnet_lasso(gene_list, expression_data)\n",
      "Cell \u001b[0;32mIn[14], line 20\u001b[0m, in \u001b[0;36mglmnet_lasso\u001b[0;34m(gene_list, expression_data)\u001b[0m\n\u001b[1;32m     17\u001b[0m lambdas \u001b[38;5;241m=\u001b[39m np\u001b[38;5;241m.\u001b[39mlogspace(np\u001b[38;5;241m.\u001b[39mlog10(\u001b[38;5;241m1e-4\u001b[39m), np\u001b[38;5;241m.\u001b[39mlog10(\u001b[38;5;241m35\u001b[39m), \u001b[38;5;241m100\u001b[39m)\n\u001b[1;32m     19\u001b[0m \u001b[38;5;66;03m#regression\u001b[39;00m\n\u001b[0;32m---> 20\u001b[0m fit \u001b[38;5;241m=\u001b[39m glmnet(x \u001b[38;5;241m=\u001b[39m X, y \u001b[38;5;241m=\u001b[39m y, family\u001b[38;5;241m=\u001b[39m\u001b[38;5;124m'\u001b[39m\u001b[38;5;124mgaussian\u001b[39m\u001b[38;5;124m'\u001b[39m, nlambda\u001b[38;5;241m=\u001b[39m\u001b[38;5;241m100\u001b[39m, alpha\u001b[38;5;241m=\u001b[39m\u001b[38;5;241m0.2\u001b[39m)\n\u001b[1;32m     21\u001b[0m glmnetPrint(fit)\n\u001b[1;32m     22\u001b[0m coef_pred \u001b[38;5;241m=\u001b[39m glmnetCoef(fit, s\u001b[38;5;241m=\u001b[39mscipy\u001b[38;5;241m.\u001b[39mfloat64([\u001b[38;5;241m0.5\u001b[39m]), exact\u001b[38;5;241m=\u001b[39m\u001b[38;5;28;01mFalse\u001b[39;00m)\n",
      "File \u001b[0;32m~/anaconda3/lib/python3.11/site-packages/glmnet_python/glmnet.py:252\u001b[0m, in \u001b[0;36mglmnet\u001b[0;34m(x, y, family, **options)\u001b[0m\n\u001b[1;32m    250\u001b[0m \u001b[38;5;28;01mif\u001b[39;00m \u001b[38;5;129;01mnot\u001b[39;00m( \u001b[38;5;28misinstance\u001b[39m(x, scipy\u001b[38;5;241m.\u001b[39msparse\u001b[38;5;241m.\u001b[39mcsc\u001b[38;5;241m.\u001b[39mcsc_matrix) ):\n\u001b[1;32m    251\u001b[0m     \u001b[38;5;28;01mif\u001b[39;00m \u001b[38;5;129;01mnot\u001b[39;00m( \u001b[38;5;28misinstance\u001b[39m(x, scipy\u001b[38;5;241m.\u001b[39mndarray) \u001b[38;5;129;01mand\u001b[39;00m x\u001b[38;5;241m.\u001b[39mdtype \u001b[38;5;241m==\u001b[39m \u001b[38;5;124m'\u001b[39m\u001b[38;5;124mfloat64\u001b[39m\u001b[38;5;124m'\u001b[39m):\n\u001b[0;32m--> 252\u001b[0m         \u001b[38;5;28;01mraise\u001b[39;00m \u001b[38;5;167;01mValueError\u001b[39;00m(\u001b[38;5;124m'\u001b[39m\u001b[38;5;124mx input must be a scipy float64 ndarray\u001b[39m\u001b[38;5;124m'\u001b[39m)\n\u001b[1;32m    253\u001b[0m \u001b[38;5;28;01melse\u001b[39;00m:\n\u001b[1;32m    254\u001b[0m     \u001b[38;5;28;01mif\u001b[39;00m \u001b[38;5;129;01mnot\u001b[39;00m (x\u001b[38;5;241m.\u001b[39mdtype \u001b[38;5;241m==\u001b[39m \u001b[38;5;124m'\u001b[39m\u001b[38;5;124mfloat64\u001b[39m\u001b[38;5;124m'\u001b[39m):\n",
      "\u001b[0;31mValueError\u001b[0m: x input must be a scipy float64 ndarray"
     ]
    }
   ],
   "source": [
    "glmnet_lasso(gene_list, expression_data)"
   ]
  },
  {
   "cell_type": "code",
   "execution_count": null,
   "id": "a6a30c9b",
   "metadata": {},
   "outputs": [],
   "source": []
  }
 ],
 "metadata": {
  "kernelspec": {
   "display_name": "Python 3 (ipykernel)",
   "language": "python",
   "name": "python3"
  },
  "language_info": {
   "codemirror_mode": {
    "name": "ipython",
    "version": 3
   },
   "file_extension": ".py",
   "mimetype": "text/x-python",
   "name": "python",
   "nbconvert_exporter": "python",
   "pygments_lexer": "ipython3",
   "version": "3.11.5"
  }
 },
 "nbformat": 4,
 "nbformat_minor": 5
}
