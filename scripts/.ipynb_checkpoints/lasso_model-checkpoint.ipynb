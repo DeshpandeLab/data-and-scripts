{
 "cells": [
  {
   "cell_type": "code",
   "execution_count": 1,
   "id": "1cf16006",
   "metadata": {},
   "outputs": [],
   "source": [
    "import numpy as np\n",
    "import pandas as pd\n",
    "from sklearn import linear_model\n",
    "from sklearn import model_selection\n",
    "import matplotlib.pyplot as plt\n",
    "import scipy as scipy\n",
    "from sklearn.linear_model import LassoCV"
   ]
  },
  {
   "cell_type": "code",
   "execution_count": 10,
   "id": "19dddeef",
   "metadata": {},
   "outputs": [],
   "source": [
    "#gene_list: Nx1 matrix of a list of gene names\n",
    "#target gene: Nx1 matrix of target gene expression information\n",
    "#expression_data: NxM matrix of cell x gene expression data, corresponding to index of gene_list\n",
    "#A: Mx1 matrix of model coefficients (what we're looking for), fitted values by the regression\n",
    "def lasso_reg(gene_list, target_gene, expression_data):\n",
    "    \n",
    "    #create variables\n",
    "    \n",
    "    X = expression_data\n",
    "    y = target_gene #Nx1 of target gene's expression\n",
    "    \n",
    "    #regression\n",
    "    #model = linear_model.Lasso()\n",
    "\n",
    "    #search for best lambda value for data\n",
    "    cv = model_selection.RepeatedKFold(n_splits=10, n_repeats=3, random_state=1)\n",
    "    #grid=dict()\n",
    "    #grid['alpha'] = np.arange(0, 1, 0.01)  #parameter lambda is named alpha in this model\n",
    "    #search = model_selection.GridSearchCV(model, grid, scoring='neg_mean_squared_error', cv=cv, n_jobs=-1)\n",
    "    #search_results = search.fit(X, y)\n",
    "    model = LassoCV(alphas=np.arange(0,1,0.01), cv=cv, n_jobs=-1)\n",
    "    model.fit(X,y)\n",
    "\n",
    "    #print the best lambda (alpha) value\n",
    "    print('best alpha: %f' % model.alpha_)\n",
    "    \n",
    "    #print the grid of alphas used for fitting\n",
    "    print('alphas used for fitting: ', model.alphas_)\n",
    "\n",
    "    #get the coefficients for the fitted estimator\n",
    "    coef_pred = model.coef_\n",
    "    \n",
    "    print('coef_predicted: ')\n",
    "\n",
    "    return coef_pred"
   ]
  },
  {
   "cell_type": "code",
   "execution_count": 11,
   "id": "995b4bfc",
   "metadata": {},
   "outputs": [],
   "source": [
    "import random"
   ]
  },
  {
   "cell_type": "code",
   "execution_count": 12,
   "id": "d27b0ea3",
   "metadata": {},
   "outputs": [],
   "source": [
    "#create testing data\n",
    "file_path1 = \"/Users/emilyxie/Downloads/data-and-scripts/data/gene_list.txt\"\n",
    "gene_list = pd.read_csv(file_path1, header=None, delim_whitespace=True)\n",
    "#print(gene_list)\n",
    "\n",
    "file_path2 = \"/Users/emilyxie/Downloads/data-and-scripts/data/X_SCODE_data.csv\"\n",
    "expression_data = pd.read_csv(file_path2, header=None)\n",
    "#print(expression_data)\n",
    "expression_data = expression_data.to_numpy()\n",
    "X = expression_data[:,0:355]\n",
    "#print(np.shape(X))\n",
    "\n",
    "target_cells = expression_data[:,355:356]\n",
    "#print(target_cells)\n",
    "#print(np.shape(target_cells))"
   ]
  },
  {
   "cell_type": "code",
   "execution_count": 13,
   "id": "2e3c709d",
   "metadata": {},
   "outputs": [
    {
     "name": "stderr",
     "output_type": "stream",
     "text": [
      "/Users/emilyxie/anaconda3/lib/python3.11/site-packages/sklearn/linear_model/_coordinate_descent.py:1568: DataConversionWarning: A column-vector y was passed when a 1d array was expected. Please change the shape of y to (n_samples, ), for example using ravel().\n",
      "  y = column_or_1d(y, warn=True)\n",
      "/Users/emilyxie/anaconda3/lib/python3.11/site-packages/sklearn/linear_model/_coordinate_descent.py:631: UserWarning: Coordinate descent with no regularization may lead to unexpected results and is discouraged.\n",
      "  model = cd_fast.enet_coordinate_descent(\n",
      "/Users/emilyxie/anaconda3/lib/python3.11/site-packages/sklearn/linear_model/_coordinate_descent.py:631: UserWarning: Coordinate descent with no regularization may lead to unexpected results and is discouraged.\n",
      "  model = cd_fast.enet_coordinate_descent(\n",
      "/Users/emilyxie/anaconda3/lib/python3.11/site-packages/sklearn/linear_model/_coordinate_descent.py:631: UserWarning: Coordinate descent with no regularization may lead to unexpected results and is discouraged.\n",
      "  model = cd_fast.enet_coordinate_descent(\n",
      "/Users/emilyxie/anaconda3/lib/python3.11/site-packages/sklearn/linear_model/_coordinate_descent.py:631: UserWarning: Coordinate descent with no regularization may lead to unexpected results and is discouraged.\n",
      "  model = cd_fast.enet_coordinate_descent(\n",
      "/Users/emilyxie/anaconda3/lib/python3.11/site-packages/sklearn/linear_model/_coordinate_descent.py:631: UserWarning: Coordinate descent with no regularization may lead to unexpected results and is discouraged.\n",
      "  model = cd_fast.enet_coordinate_descent(\n",
      "/Users/emilyxie/anaconda3/lib/python3.11/site-packages/sklearn/linear_model/_coordinate_descent.py:631: UserWarning: Coordinate descent with no regularization may lead to unexpected results and is discouraged.\n",
      "  model = cd_fast.enet_coordinate_descent(\n",
      "/Users/emilyxie/anaconda3/lib/python3.11/site-packages/sklearn/linear_model/_coordinate_descent.py:631: UserWarning: Coordinate descent with no regularization may lead to unexpected results and is discouraged.\n",
      "  model = cd_fast.enet_coordinate_descent(\n",
      "/Users/emilyxie/anaconda3/lib/python3.11/site-packages/sklearn/linear_model/_coordinate_descent.py:631: UserWarning: Coordinate descent with no regularization may lead to unexpected results and is discouraged.\n",
      "  model = cd_fast.enet_coordinate_descent(\n",
      "/Users/emilyxie/anaconda3/lib/python3.11/site-packages/sklearn/linear_model/_coordinate_descent.py:631: UserWarning: Coordinate descent with no regularization may lead to unexpected results and is discouraged.\n",
      "  model = cd_fast.enet_coordinate_descent(\n"
     ]
    },
    {
     "name": "stdout",
     "output_type": "stream",
     "text": [
      "best alpha: 0.010000\n",
      "alphas used for fitting:  [0.99 0.98 0.97 0.96 0.95 0.94 0.93 0.92 0.91 0.9  0.89 0.88 0.87 0.86\n",
      " 0.85 0.84 0.83 0.82 0.81 0.8  0.79 0.78 0.77 0.76 0.75 0.74 0.73 0.72\n",
      " 0.71 0.7  0.69 0.68 0.67 0.66 0.65 0.64 0.63 0.62 0.61 0.6  0.59 0.58\n",
      " 0.57 0.56 0.55 0.54 0.53 0.52 0.51 0.5  0.49 0.48 0.47 0.46 0.45 0.44\n",
      " 0.43 0.42 0.41 0.4  0.39 0.38 0.37 0.36 0.35 0.34 0.33 0.32 0.31 0.3\n",
      " 0.29 0.28 0.27 0.26 0.25 0.24 0.23 0.22 0.21 0.2  0.19 0.18 0.17 0.16\n",
      " 0.15 0.14 0.13 0.12 0.11 0.1  0.09 0.08 0.07 0.06 0.05 0.04 0.03 0.02\n",
      " 0.01 0.  ]\n",
      "coef_predicted: \n",
      "[-0.         -0.         -0.         -0.         -0.          0.\n",
      " -0.         -0.         -0.         -0.         -0.         -0.\n",
      " -0.         -0.         -0.         -0.         -0.         -0.\n",
      " -0.         -0.         -0.         -0.         -0.         -0.\n",
      " -0.         -0.         -0.         -0.         -0.         -0.\n",
      " -0.         -0.         -0.         -0.         -0.         -0.\n",
      " -0.         -0.         -0.         -0.         -0.         -0.\n",
      " -0.         -0.         -0.         -0.         -0.         -0.\n",
      " -0.         -0.         -0.         -0.         -0.         -0.\n",
      " -0.         -0.         -0.         -0.         -0.         -0.\n",
      " -0.         -0.         -0.         -0.         -0.         -0.\n",
      " -0.         -0.         -0.         -0.         -0.         -0.\n",
      "  0.         -0.         -0.         -0.         -0.         -0.\n",
      " -0.         -0.         -0.         -0.         -0.         -0.\n",
      " -0.         -0.         -0.         -0.          0.          0.\n",
      " -0.         -0.         -0.         -0.         -0.         -0.\n",
      " -0.         -0.         -0.         -0.         -0.         -0.\n",
      " -0.         -0.         -0.         -0.         -0.         -0.\n",
      " -0.         -0.         -0.         -0.         -0.         -0.\n",
      " -0.         -0.         -0.         -0.03488206 -0.         -0.\n",
      " -0.         -0.          0.         -0.         -0.         -0.\n",
      " -0.          0.         -0.         -0.         -0.         -0.\n",
      " -0.         -0.         -0.         -0.         -0.          0.\n",
      " -0.         -0.         -0.         -0.         -0.         -0.\n",
      " -0.         -0.         -0.         -0.         -0.         -0.\n",
      "  0.          0.          0.         -0.         -0.          0.\n",
      " -0.         -0.         -0.          0.         -0.         -0.\n",
      "  0.         -0.         -0.         -0.         -0.         -0.\n",
      " -0.         -0.         -0.          0.         -0.          0.\n",
      "  0.         -0.         -0.         -0.         -0.         -0.\n",
      " -0.         -0.         -0.         -0.         -0.         -0.\n",
      " -0.         -0.         -0.          0.          0.          0.\n",
      " -0.          0.         -0.          0.         -0.         -0.\n",
      " -0.         -0.         -0.         -0.         -0.          0.\n",
      " -0.         -0.          0.          0.          0.         -0.\n",
      "  0.          0.         -0.         -0.         -0.          0.\n",
      " -0.         -0.          0.         -0.         -0.         -0.\n",
      "  0.          0.          0.          0.          0.          0.\n",
      " -0.          0.         -0.          0.          0.         -0.\n",
      "  0.          0.         -0.          0.          0.          0.\n",
      "  0.          0.          0.         -0.         -0.          0.\n",
      "  0.         -0.          0.          0.         -0.          0.\n",
      "  0.         -0.          0.         -0.          0.          0.\n",
      "  0.          0.         -0.          0.          0.          0.\n",
      "  0.          0.          0.          0.          0.          0.\n",
      "  0.          0.          0.          0.          0.05541786  0.\n",
      "  0.          0.          0.          0.         -0.         -0.\n",
      " -0.          0.          0.          0.          0.          0.\n",
      " -0.          0.          0.          0.          0.          0.\n",
      "  0.02414486  0.05751686  0.          0.          0.          0.\n",
      "  0.         -0.         -0.          0.          0.          0.00958472\n",
      "  0.          0.          0.          0.          0.11472687  0.\n",
      "  0.          0.          0.          0.08232068  0.         -0.\n",
      "  0.          0.09507534  0.00260105  0.          0.          0.\n",
      "  0.          0.          0.          0.          0.          0.\n",
      " -0.          0.          0.          0.          0.          0.\n",
      "  0.          0.          0.          0.07250062  0.          0.\n",
      "  0.07598027  0.          0.          0.          0.          0.\n",
      "  0.          0.          0.130289    0.02960665  0.          0.21112056\n",
      "  0.07711649]\n",
      "Time elapsed: 0.33505607 seconds.\n"
     ]
    },
    {
     "name": "stderr",
     "output_type": "stream",
     "text": [
      "/Users/emilyxie/anaconda3/lib/python3.11/site-packages/sklearn/linear_model/_coordinate_descent.py:631: UserWarning: Coordinate descent with no regularization may lead to unexpected results and is discouraged.\n",
      "  model = cd_fast.enet_coordinate_descent(\n",
      "/Users/emilyxie/anaconda3/lib/python3.11/site-packages/sklearn/linear_model/_coordinate_descent.py:631: UserWarning: Coordinate descent with no regularization may lead to unexpected results and is discouraged.\n",
      "  model = cd_fast.enet_coordinate_descent(\n",
      "/Users/emilyxie/anaconda3/lib/python3.11/site-packages/sklearn/linear_model/_coordinate_descent.py:631: UserWarning: Coordinate descent with no regularization may lead to unexpected results and is discouraged.\n",
      "  model = cd_fast.enet_coordinate_descent(\n",
      "/Users/emilyxie/anaconda3/lib/python3.11/site-packages/sklearn/linear_model/_coordinate_descent.py:631: UserWarning: Coordinate descent with no regularization may lead to unexpected results and is discouraged.\n",
      "  model = cd_fast.enet_coordinate_descent(\n"
     ]
    }
   ],
   "source": [
    "import time\n",
    "\n",
    "start = time.time()\n",
    "reg = lasso_reg(gene_list, target_cells, X)\n",
    "end = time.time()\n",
    "elapsed = end-start\n",
    "print(reg)\n",
    "print(f'Time elapsed: {elapsed:.8f} seconds.')"
   ]
  },
  {
   "cell_type": "code",
   "execution_count": null,
   "id": "90dd00b2",
   "metadata": {},
   "outputs": [
    {
     "name": "stdout",
     "output_type": "stream",
     "text": [
      "(10000, 1)\n"
     ]
    },
    {
     "name": "stderr",
     "output_type": "stream",
     "text": [
      "/Users/emilyxie/anaconda3/lib/python3.11/site-packages/sklearn/linear_model/_coordinate_descent.py:1568: DataConversionWarning: A column-vector y was passed when a 1d array was expected. Please change the shape of y to (n_samples, ), for example using ravel().\n",
      "  y = column_or_1d(y, warn=True)\n"
     ]
    }
   ],
   "source": [
    "#test with larger X matrix and sparse y matrix\n",
    "\n",
    "#create 10000x10000 random matrix X\n",
    "random.seed(1)\n",
    "X = np.random.rand(10000,10000)\n",
    "\n",
    "#create y as a linear combination of 5 X's\n",
    "y = 1.35*X[:,45:46] + 6.53*X[:,4356:4357] + 0.33*X[:,8888:8889] + 43.58*X[:,565:566] + 12.8*X[:,1280:1281]\n",
    "print(np.shape(y))\n",
    "\n",
    "start = time.time()\n",
    "reg = lasso_reg(gene_list, y, X)\n",
    "end = time.time()\n",
    "elapsed = end-start\n",
    "print(reg)\n",
    "print(f'Time elapsed: {elapsed:.8f} seconds.')\n"
   ]
  },
  {
   "cell_type": "code",
   "execution_count": null,
   "id": "b34ac946",
   "metadata": {},
   "outputs": [],
   "source": []
  }
 ],
 "metadata": {
  "kernelspec": {
   "display_name": "Python 3 (ipykernel)",
   "language": "python",
   "name": "python3"
  },
  "language_info": {
   "codemirror_mode": {
    "name": "ipython",
    "version": 3
   },
   "file_extension": ".py",
   "mimetype": "text/x-python",
   "name": "python",
   "nbconvert_exporter": "python",
   "pygments_lexer": "ipython3",
   "version": "3.11.5"
  }
 },
 "nbformat": 4,
 "nbformat_minor": 5
}
