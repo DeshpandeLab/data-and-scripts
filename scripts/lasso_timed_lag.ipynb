{
 "cells": [
  {
   "cell_type": "code",
   "execution_count": 1,
   "id": "65ba7521",
   "metadata": {},
   "outputs": [],
   "source": [
    "import numpy as np\n",
    "import pandas as pd\n",
    "import matplotlib.pyplot as plt\n",
    "import scipy as scipy"
   ]
  },
  {
   "cell_type": "code",
   "execution_count": 3,
   "id": "93d41685",
   "metadata": {},
   "outputs": [],
   "source": [
    "def gaussian_kernel(X, sigma):\n",
    "    distances = np.sum((X[:,np.newaxis] - X)**2, axis=-1)\n",
    "    kernel_matrix = np.exp(-distances / (2*sigma**2))\n",
    "    \n",
    "    return kernel_matrix"
   ]
  },
  {
   "cell_type": "code",
   "execution_count": 2,
   "id": "12a721d9",
   "metadata": {},
   "outputs": [],
   "source": [
    "def lasso_timed_lag(expression_data, time_data, target_gene, lags, lambda_val, sigma):\n",
    "    \n",
    "    #INPUTS:\n",
    "    #expression_data: NxM matrix of expression data of N genes and M cells, ordered temporally with index matching time_data\n",
    "    #time_data: NxM matrix of time points each expression data corresponds to index-wise\n",
    "    #target_gene: integer between 0 and N-1 that represents the target gene's index in the expression_data matrix\n",
    "    #lags: a list of integers of time lags to be included in the Am design matrix. Example: [5,10,50]\n",
    "    #lambda_val: lambda value for lasso regression, adjusted based on data fit results\n",
    "    #sigma: kernel smoothing parameter, set by user\n",
    "    \n",
    "    #OUTPUTS:\n",
    "    #bm: nNx1 matrix of predicted coefficients, where n is the number of lags (i.e. len(lags)) and N genes\n",
    "    \n",
    "    \n",
    "    X_design = np.asarray(expression_data)\n",
    "    time_index = np.asarray(time_data)\n",
    "    \n",
    "    n_lags = len(lags)\n",
    "    max_lag = max(lags)\n",
    "    N = X_design.shape[0]\n",
    "    M = X_design.shape[1]\n",
    "    \n",
    "    #find index of largest time lag (time>50, for instance)\n",
    "    max_time_index=0\n",
    "    for i in range(M):\n",
    "        if time_index[target_gene, i]>max_lag:\n",
    "            max_time_index=i #column number of the index of where maximum lag occurs\n",
    "            break\n",
    "        else:\n",
    "            continue\n",
    "    \n",
    "    y = X_design[target_gene, max_time_index:] #dim: 1x(M-max_time_index+1)\n",
    "    y = y.transpose() #dim: (M-max_time_index+1)x1\n",
    "    \n",
    "    #find kernel matrix for X design matrix\n",
    "    X_kernel = gaussian_kernel(X_design, sigma)\n",
    "    \n",
    "    #create Am matrix, (essentially the X matrix in lasso regression)\n",
    "    Am = np.empty(shape=[M-max_time_index+1, n_lags*N])\n",
    "    for i in range(n_lags):\n",
    "        #find the non-smoothed version first\n",
    "        Am[:,i*N:(i+1)*N] = X_design[:,max_time_index-lags[i]:M-lags[i]].transpose()\n",
    "        \n",
    "        #apply (NOT YET) normalized kernal matrix to Am\n",
    "        X_kernel_sec = X_kernel[:,max_time_index-lags[i]:M-lags[i]]\n",
    "        Am_kernelized[:,i*N:(i+1)*N] = np.dot(Am[:,i*N:(i+1)*N], X_kernel_sec)\n",
    "    \n",
    "    \n",
    "    \n",
    "    #run glmnet regression\n",
    "    bm = glmnet_lasso(y, Am_kernelized, 0.1)\n",
    "    \n",
    "    \n",
    "    return bm"
   ]
  },
  {
   "cell_type": "code",
   "execution_count": null,
   "id": "7eb79846",
   "metadata": {},
   "outputs": [],
   "source": []
  }
 ],
 "metadata": {
  "kernelspec": {
   "display_name": "Python 3",
   "language": "python",
   "name": "python3"
  },
  "language_info": {
   "codemirror_mode": {
    "name": "ipython",
    "version": 3
   },
   "file_extension": ".py",
   "mimetype": "text/x-python",
   "name": "python",
   "nbconvert_exporter": "python",
   "pygments_lexer": "ipython3",
   "version": "3.6.13"
  }
 },
 "nbformat": 4,
 "nbformat_minor": 5
}
