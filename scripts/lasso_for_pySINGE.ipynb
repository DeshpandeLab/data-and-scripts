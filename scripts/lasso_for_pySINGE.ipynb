{
 "cells": [
  {
   "cell_type": "code",
   "execution_count": 1,
   "id": "eae9b95b",
   "metadata": {},
   "outputs": [],
   "source": [
    "import numpy as np\n",
    "import pandas as pd\n",
    "import matplotlib.pyplot as plt\n",
    "import scipy as scipy\n"
   ]
  },
  {
   "cell_type": "code",
   "execution_count": 2,
   "id": "9f9c5041",
   "metadata": {},
   "outputs": [
    {
     "ename": "SyntaxError",
     "evalue": "incomplete input (3821924494.py, line 9)",
     "output_type": "error",
     "traceback": [
      "\u001b[0;36m  Cell \u001b[0;32mIn[2], line 9\u001b[0;36m\u001b[0m\n\u001b[0;31m    \u001b[0m\n\u001b[0m    ^\u001b[0m\n\u001b[0;31mSyntaxError\u001b[0m\u001b[0;31m:\u001b[0m incomplete input\n"
     ]
    }
   ],
   "source": [
    "#function that runs glmnet lasso regression on input expression data to find the most optimal pseudotime piece of gene expression\n",
    "\n",
    "def lasso_for_pySINGE(X_expression_data, gene_list, lambda_val, threshold, width_y, time_interval):\n",
    "    \n",
    "    #INPUTS:\n",
    "    #X_expression_data: N gene expression for M cells, each gene's expression ordered in pseudotime from 1-100\n",
    "    #gene_list: matrix of a list of all gene names\n",
    "    #lambda_val: the lasso lambda value (regularization parameter) used for each glm regression\n",
    "    #threshold: threshold value to determine convergence\n",
    "    #width_y: the expected width of the piece being predicted, which is the same width spanning throughout the designated time interval\n",
    "    #time_interval: how far to move between each time piece (every 5, every 10, etc.)\n",
    "    \n",
    "    #OUTPUTS:\n",
    "    #coef_pred: the predicted coefficient matrix\n",
    "    \n",
    "    X = np.asarray(X_expression_data)\n",
    "    N = X.shape[0]\n",
    "    M = X.shape[1]\n",
    "    lag = time_inverval\n",
    "    \n",
    "    #assume the target set is at the beginning of the expression data\n",
    "    target_expression = X[,0:width_y]\n",
    "    non_target_expression = X[,width_y:-1]\n",
    "    \n",
    "    #number of \"pieces\" n\n",
    "    begin_index = width_y\n",
    "    end_index = width_y+lag\n",
    "    n = 0\n",
    "    while end_index < M:\n",
    "        n+=1\n",
    "        begin_index = end_index\n",
    "        end_index = end_index + lag\n",
    "    \n",
    "    begin=0\n",
    "    end=width_y\n",
    "    #run regression for every piece with every cell (except for the predicting piece)\n",
    "    for i in range(0,n): #through every piece spliced by width and moved by time interval\n",
    "        for j in range(0,N): #through every row of the piece\n",
    "        \n",
    "            X_data = X[,begin:end]\n",
    "            target_y = X[j,begin:end]\n",
    "            coefs = glmnet_lasso(gene_list, target_y, X_data, lambda_value=lambda_val)\n",
    "            #compare predicted with actual coefficients\n",
    "            xxxxxxxxx\n",
    "        \n",
    "        #move to the next piece by moving over the designated time lag\n",
    "        begin = width_y\n",
    "        end = width_y+lag\n",
    "        \n",
    "        \n",
    "    #find the best predicted coefficient matrix, return as output\n",
    "    \n",
    "    \n",
    "    return coef_pred\n",
    "    "
   ]
  },
  {
   "cell_type": "code",
   "execution_count": null,
   "id": "64447ccd",
   "metadata": {},
   "outputs": [],
   "source": []
  }
 ],
 "metadata": {
  "kernelspec": {
   "display_name": "Python 3 (ipykernel)",
   "language": "python",
   "name": "python3"
  },
  "language_info": {
   "codemirror_mode": {
    "name": "ipython",
    "version": 3
   },
   "file_extension": ".py",
   "mimetype": "text/x-python",
   "name": "python",
   "nbconvert_exporter": "python",
   "pygments_lexer": "ipython3",
   "version": "3.11.5"
  }
 },
 "nbformat": 4,
 "nbformat_minor": 5
}
