{
 "cells": [
  {
   "cell_type": "code",
   "execution_count": 2,
   "id": "a4656d1c",
   "metadata": {},
   "outputs": [],
   "source": [
    "import numpy as np\n",
    "import pandas as pd\n",
    "import matplotlib.pyplot as plt\n",
    "import scipy as scipy\n"
   ]
  },
  {
   "cell_type": "code",
   "execution_count": 27,
   "id": "3f000ce7",
   "metadata": {},
   "outputs": [],
   "source": [
    "def lasso_lag_input(expression_data, target_gene, lags, lambda_val):\n",
    "    \n",
    "    #INPUTS:\n",
    "    #expression_data: NxM matrix of expression data of N genes and M cells, ordered temporally\n",
    "    #target_gene: integer between 0 and N-1 that represents the target gene's index in the expression_data matrix\n",
    "    #lags: a list of integers of time lags to be included in the Am design matrix. Example: [5,10,50]\n",
    "    #lambda_val: lambda value for lasso regression, adjusted based on data fit results\n",
    "    \n",
    "    #OUTPUTS:\n",
    "    #bm: nNx1 matrix of predicted coefficients, where n is the number of lags (i.e. len(lags)) and N genes\n",
    "    \n",
    "    X_design = np.asarray(expression_data)\n",
    "    \n",
    "    n_lags = len(lags)\n",
    "    max_lag = max(lags)\n",
    "    N = X_design.shape[0]\n",
    "    M = X_design.shape[1]\n",
    "    \n",
    "    y = X_design[target_gene, max_lag:] #dim: 1x(M-max_lag+1)\n",
    "    y = y.transpose() #dim: (M-max_lag+1)x1\n",
    "    \n",
    "    #create Am matrix (essentially the X matrix in lasso regression)\n",
    "    Am = np.empty(shape=[M-max_lag+1, n*N])\n",
    "    for i in range(n_lags):\n",
    "        Am[:,i*N:(i+1)*N] = X_design[:,max_lag-lags[i]:M-lags[i]].transpose()\n",
    "    \n",
    "    #run glmnet regression\n",
    "    bm = glmnet_lasso(y, Am, 0.1)\n",
    "    \n",
    "    \n",
    "    return bm"
   ]
  },
  {
   "cell_type": "code",
   "execution_count": 20,
   "id": "f3c0b037",
   "metadata": {},
   "outputs": [
    {
     "data": {
      "text/plain": [
       "(2, 3)"
      ]
     },
     "execution_count": 20,
     "metadata": {},
     "output_type": "execute_result"
    }
   ],
   "source": [
    "lags = np.array([[5,10,50], [1,2,3]])\n",
    "lags.shape\n"
   ]
  },
  {
   "cell_type": "code",
   "execution_count": 24,
   "id": "27010a36",
   "metadata": {},
   "outputs": [
    {
     "name": "stdout",
     "output_type": "stream",
     "text": [
      "[[ 2  3 50]\n",
      " [ 1  2  3]]\n"
     ]
    }
   ],
   "source": [
    "lags = [[5,10,50],[1,2,3]]\n",
    "X = np.asarray(lags)\n",
    "X[0,0:2]=np.array([2,3])\n",
    "print(X)"
   ]
  },
  {
   "cell_type": "code",
   "execution_count": null,
   "id": "50926805",
   "metadata": {},
   "outputs": [],
   "source": []
  }
 ],
 "metadata": {
  "kernelspec": {
   "display_name": "Python 3",
   "language": "python",
   "name": "python3"
  },
  "language_info": {
   "codemirror_mode": {
    "name": "ipython",
    "version": 3
   },
   "file_extension": ".py",
   "mimetype": "text/x-python",
   "name": "python",
   "nbconvert_exporter": "python",
   "pygments_lexer": "ipython3",
   "version": "3.6.15"
  }
 },
 "nbformat": 4,
 "nbformat_minor": 5
}
